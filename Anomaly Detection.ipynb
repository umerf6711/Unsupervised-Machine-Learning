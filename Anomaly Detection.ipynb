{
 "cells": [
  {
   "cell_type": "markdown",
   "id": "b2e96345",
   "metadata": {},
   "source": [
    "# Baseline Model Performance"
   ]
  },
  {
   "cell_type": "code",
   "execution_count": 1,
   "id": "fcf2ddf0",
   "metadata": {},
   "outputs": [],
   "source": [
    "import pandas as pd\n",
    "import numpy as np\n",
    "from sklearn.model_selection import train_test_split\n",
    "from sklearn.linear_model import LinearRegression\n",
    "from sklearn.metrics import mean_absolute_error"
   ]
  },
  {
   "cell_type": "code",
   "execution_count": 2,
   "id": "68f155fc",
   "metadata": {},
   "outputs": [],
   "source": [
    "#read file\n",
    "\n",
    "url = 'http://raw.githubusercontent.com/jbrownlee/Datasets/master/housing.csv'\n",
    "df = pd.read_csv(url,header=None)\n",
    "\n",
    "#retrive the array\n",
    "\n",
    "data = df.values\n",
    "\n",
    "#splite into input and output elements\n",
    "\n",
    "X , y = data[:,:-1],data[:,-1]"
   ]
  },
  {
   "cell_type": "code",
   "execution_count": 7,
   "id": "51441d0e",
   "metadata": {},
   "outputs": [
    {
     "name": "stdout",
     "output_type": "stream",
     "text": [
      "MAE:3.417\n"
     ]
    }
   ],
   "source": [
    "#split into train test sets\n",
    "\n",
    "X_train,X_test,y_train,y_test = train_test_split(X,y,test_size=0.33,random_state=1)\n",
    "\n",
    "#fit the model\n",
    "\n",
    "model = LinearRegression()\n",
    "model.fit(X_train,y_train)\n",
    "\n",
    "#evaluate the model\n",
    "\n",
    "yhat = model.predict(X_test)\n",
    "\n",
    "#evaluate prediction\n",
    "\n",
    "mea = mean_absolute_error(y_test,yhat)\n",
    "print('MAE:%.3F'%mea)"
   ]
  },
  {
   "cell_type": "markdown",
   "id": "4afd7502",
   "metadata": {},
   "source": [
    "# Isolation Forest"
   ]
  },
  {
   "cell_type": "code",
   "execution_count": 2,
   "id": "34ef9f17",
   "metadata": {},
   "outputs": [],
   "source": [
    "import numpy as np\n",
    "import pandas as pd\n",
    "from sklearn.model_selection import train_test_split\n",
    "from sklearn.linear_model import LinearRegression\n",
    "from sklearn.metrics import mean_absolute_error\n",
    "from sklearn.ensemble import IsolationForest"
   ]
  },
  {
   "cell_type": "code",
   "execution_count": 3,
   "id": "020f58b0",
   "metadata": {},
   "outputs": [
    {
     "name": "stdout",
     "output_type": "stream",
     "text": [
      "(339, 13) (339,)\n",
      "(305, 13) (305,)\n",
      "MAE: 3.209\n"
     ]
    }
   ],
   "source": [
    "#import and read file\n",
    "\n",
    "url = 'http://raw.githubusercontent.com/jbrownlee/Datasets/master/housing.csv'\n",
    "df = pd.read_csv(url,header=None)\n",
    "data = df.values\n",
    "\n",
    "#dependent and independent variables\n",
    "\n",
    "X,y = data[:,:-1],data[:,-1]\n",
    "\n",
    "X_train,X_test,y_train,y_test = train_test_split(X,y,test_size=0.33,random_state=1)\n",
    "\n",
    "print(X_train.shape,y_train.shape)\n",
    "\n",
    "#finding outliers \n",
    "\n",
    "iso = IsolationForest(contamination=0.1)\n",
    "yhat = iso.fit_predict(X_train)\n",
    "\n",
    "#select all rows that are not outliers\n",
    "\n",
    "mask = yhat != -1\n",
    "X_train,y_train = X_train[mask,:],y_train[mask]\n",
    "\n",
    "#shape of updated training sets\n",
    "\n",
    "print(X_train.shape,y_train.shape)\n",
    "\n",
    "#fit the model\n",
    "\n",
    "model= LinearRegression()\n",
    "model.fit(X_train,y_train)\n",
    "\n",
    "yhat = model.predict(X_test)\n",
    "\n",
    "#evaluate prediction\n",
    "\n",
    "mae = mean_absolute_error(y_test,yhat)\n",
    "print('MAE: %.3f'%mae)"
   ]
  },
  {
   "cell_type": "markdown",
   "id": "d900d249",
   "metadata": {},
   "source": [
    "# Minimun Covarience determinent"
   ]
  },
  {
   "cell_type": "code",
   "execution_count": 4,
   "id": "b77498c7",
   "metadata": {},
   "outputs": [],
   "source": [
    "import numpy as np\n",
    "import pandas as pd\n",
    "from sklearn.model_selection import train_test_split\n",
    "from sklearn.linear_model import LinearRegression\n",
    "from sklearn.metrics import mean_absolute_error\n",
    "from sklearn.covariance import EllipticEnvelope"
   ]
  },
  {
   "cell_type": "code",
   "execution_count": 11,
   "id": "221c9310",
   "metadata": {},
   "outputs": [
    {
     "name": "stdout",
     "output_type": "stream",
     "text": [
      "(339, 13) (339,)\n",
      "(335, 13) (335,)\n",
      "MAE: 3.388\n"
     ]
    }
   ],
   "source": [
    "#import and read file\n",
    "\n",
    "url = 'http://raw.githubusercontent.com/jbrownlee/Datasets/master/housing.csv'\n",
    "df = pd.read_csv(url,header=None)\n",
    "data = df.values\n",
    "\n",
    "#dependent and independent variables\n",
    "\n",
    "X,y = data[:,:-1],data[:,-1]\n",
    "\n",
    "X_train,X_test,y_train,y_test = train_test_split(X,y,test_size=0.33,random_state=1)\n",
    "\n",
    "print(X_train.shape,y_train.shape)\n",
    "\n",
    "#finding outliers \n",
    "\n",
    "ee = EllipticEnvelope(contamination=0.01)\n",
    "yhat = ee.fit_predict(X_train)\n",
    "\n",
    "#select all rows that are not outliers\n",
    "\n",
    "mask = yhat != -1\n",
    "X_train,y_train = X_train[mask,:],y_train[mask]\n",
    "\n",
    "#shape of updated training sets\n",
    "\n",
    "print(X_train.shape,y_train.shape)\n",
    "\n",
    "#fit the model\n",
    "\n",
    "model= LinearRegression()\n",
    "model.fit(X_train,y_train)\n",
    "\n",
    "yhat = model.predict(X_test)\n",
    "\n",
    "#evaluate prediction\n",
    "\n",
    "mae = mean_absolute_error(y_test,yhat)\n",
    "print('MAE: %.3f'%mae)"
   ]
  },
  {
   "cell_type": "markdown",
   "id": "058eda17",
   "metadata": {},
   "source": [
    "# local outlier factor lof"
   ]
  },
  {
   "cell_type": "code",
   "execution_count": 12,
   "id": "03407844",
   "metadata": {},
   "outputs": [],
   "source": [
    "import numpy as np\n",
    "import pandas as pd\n",
    "from sklearn.model_selection import train_test_split\n",
    "from sklearn.linear_model import LinearRegression\n",
    "from sklearn.metrics import mean_absolute_error\n",
    "from sklearn.neighbors import LocalOutlierFactor"
   ]
  },
  {
   "cell_type": "code",
   "execution_count": 14,
   "id": "baca4be6",
   "metadata": {},
   "outputs": [
    {
     "name": "stdout",
     "output_type": "stream",
     "text": [
      "(339, 13) (339,)\n",
      "(305, 13) (305,)\n",
      "MAE: 3.356\n"
     ]
    }
   ],
   "source": [
    "#import and read file\n",
    "\n",
    "url = 'http://raw.githubusercontent.com/jbrownlee/Datasets/master/housing.csv'\n",
    "df = pd.read_csv(url,header=None)\n",
    "data = df.values\n",
    "\n",
    "#dependent and independent variables\n",
    "\n",
    "X,y = data[:,:-1],data[:,-1]\n",
    "\n",
    "X_train,X_test,y_train,y_test = train_test_split(X,y,test_size=0.33,random_state=1)\n",
    "\n",
    "print(X_train.shape,y_train.shape)\n",
    "\n",
    "#finding outliers \n",
    "\n",
    "lof = LocalOutlierFactor()\n",
    "yhat = lof.fit_predict(X_train)\n",
    "\n",
    "#select all rows that are not outliers\n",
    "\n",
    "mask = yhat != -1\n",
    "X_train,y_train = X_train[mask,:],y_train[mask]\n",
    "\n",
    "#shape of updated training sets\n",
    "\n",
    "print(X_train.shape,y_train.shape)\n",
    "\n",
    "#fit the model\n",
    "\n",
    "model= LinearRegression()\n",
    "model.fit(X_train,y_train)\n",
    "\n",
    "yhat = model.predict(X_test)\n",
    "\n",
    "#evaluate prediction\n",
    "\n",
    "mae = mean_absolute_error(y_test,yhat)\n",
    "print('MAE: %.3f'%mae)"
   ]
  },
  {
   "cell_type": "markdown",
   "id": "7037a91e",
   "metadata": {},
   "source": [
    "# One-class SVM"
   ]
  },
  {
   "cell_type": "code",
   "execution_count": 15,
   "id": "a525b6d8",
   "metadata": {},
   "outputs": [],
   "source": [
    "import numpy as np\n",
    "import pandas as pd\n",
    "from sklearn.model_selection import train_test_split\n",
    "from sklearn.linear_model import LinearRegression\n",
    "from sklearn.metrics import mean_absolute_error\n",
    "from sklearn.svm import OneClassSVM"
   ]
  },
  {
   "cell_type": "code",
   "execution_count": 16,
   "id": "f1147b14",
   "metadata": {},
   "outputs": [
    {
     "name": "stdout",
     "output_type": "stream",
     "text": [
      "(339, 13) (339,)\n",
      "(336, 13) (336,)\n",
      "MAE: 3.431\n"
     ]
    }
   ],
   "source": [
    "#import and read file\n",
    "\n",
    "url = 'http://raw.githubusercontent.com/jbrownlee/Datasets/master/housing.csv'\n",
    "df = pd.read_csv(url,header=None)\n",
    "data = df.values\n",
    "\n",
    "#dependent and independent variables\n",
    "\n",
    "X,y = data[:,:-1],data[:,-1]\n",
    "\n",
    "X_train,X_test,y_train,y_test = train_test_split(X,y,test_size=0.33,random_state=1)\n",
    "\n",
    "print(X_train.shape,y_train.shape)\n",
    "\n",
    "#finding outliers \n",
    "\n",
    "oc = OneClassSVM(nu=0.01)\n",
    "yhat = oc.fit_predict(X_train)\n",
    "\n",
    "#select all rows that are not outliers\n",
    "\n",
    "mask = yhat != -1\n",
    "X_train,y_train = X_train[mask,:],y_train[mask]\n",
    "\n",
    "#shape of updated training sets\n",
    "\n",
    "print(X_train.shape,y_train.shape)\n",
    "\n",
    "#fit the model\n",
    "\n",
    "model= LinearRegression()\n",
    "model.fit(X_train,y_train)\n",
    "\n",
    "yhat = model.predict(X_test)\n",
    "\n",
    "#evaluate prediction\n",
    "\n",
    "mae = mean_absolute_error(y_test,yhat)\n",
    "print('MAE: %.3f'%mae)"
   ]
  }
 ],
 "metadata": {
  "kernelspec": {
   "display_name": "Python 3 (ipykernel)",
   "language": "python",
   "name": "python3"
  },
  "language_info": {
   "codemirror_mode": {
    "name": "ipython",
    "version": 3
   },
   "file_extension": ".py",
   "mimetype": "text/x-python",
   "name": "python",
   "nbconvert_exporter": "python",
   "pygments_lexer": "ipython3",
   "version": "3.9.13"
  }
 },
 "nbformat": 4,
 "nbformat_minor": 5
}
