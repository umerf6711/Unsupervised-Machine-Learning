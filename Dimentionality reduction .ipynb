{
 "cells": [
  {
   "cell_type": "code",
   "execution_count": 1,
   "id": "493f04fa",
   "metadata": {},
   "outputs": [
    {
     "name": "stdout",
     "output_type": "stream",
     "text": [
      "1.0.2\n"
     ]
    }
   ],
   "source": [
    "import sklearn\n",
    "print(sklearn.__version__)"
   ]
  },
  {
   "cell_type": "code",
   "execution_count": 3,
   "id": "2d0bb514",
   "metadata": {},
   "outputs": [
    {
     "name": "stdout",
     "output_type": "stream",
     "text": [
      "(1000, 20) (1000,)\n"
     ]
    }
   ],
   "source": [
    "#classification Datasets\n",
    "\n",
    "import numpy as np\n",
    "import pandas as pd\n",
    "from sklearn.datasets import make_classification\n",
    "\n",
    "X,y = make_classification(n_samples=1000,n_features=20,n_informative=10,n_redundant=10,random_state=7)\n",
    "print(X.shape,y.shape)"
   ]
  },
  {
   "cell_type": "markdown",
   "id": "2e1db088",
   "metadata": {},
   "source": [
    "**now we will fit logisticRegression model to different techniques and check cross_val_score**"
   ]
  },
  {
   "cell_type": "markdown",
   "id": "9229c54b",
   "metadata": {},
   "source": [
    "# RepeatedStratifiedKFold on raw data"
   ]
  },
  {
   "cell_type": "code",
   "execution_count": 5,
   "id": "b53c98b5",
   "metadata": {},
   "outputs": [],
   "source": [
    "from numpy import mean\n",
    "from numpy import std\n",
    "from sklearn.datasets import make_classification\n",
    "from sklearn.model_selection import RepeatedStratifiedKFold\n",
    "from sklearn.model_selection import cross_val_score\n",
    "from sklearn.linear_model import LogisticRegression"
   ]
  },
  {
   "cell_type": "code",
   "execution_count": 6,
   "id": "febcf814",
   "metadata": {},
   "outputs": [],
   "source": [
    "model = LogisticRegression()"
   ]
  },
  {
   "cell_type": "code",
   "execution_count": 11,
   "id": "bd82ffa5",
   "metadata": {},
   "outputs": [
    {
     "name": "stdout",
     "output_type": "stream",
     "text": [
      "Accuracy:0.824(0.034)\n"
     ]
    }
   ],
   "source": [
    "#evaluate model\n",
    "cv = RepeatedStratifiedKFold(n_splits=10,n_repeats=3,random_state=1)\n",
    "\n",
    "n_scores = cross_val_score(model,X,y,scoring='accuracy',cv=cv,n_jobs=-1)\n",
    "print('Accuracy:%.3f(%.3f)'%(mean(n_scores),std(n_scores)))"
   ]
  },
  {
   "cell_type": "markdown",
   "id": "b4c272c7",
   "metadata": {},
   "source": [
    "# Principal Component Analysis PCA"
   ]
  },
  {
   "cell_type": "code",
   "execution_count": 14,
   "id": "7a0064c5",
   "metadata": {},
   "outputs": [
    {
     "name": "stdout",
     "output_type": "stream",
     "text": [
      "Accuracy:0.824(0.034)\n"
     ]
    }
   ],
   "source": [
    "from sklearn.decomposition import PCA\n",
    "from sklearn.pipeline import Pipeline\n",
    "\n",
    "#define pipeline\n",
    "steps = [('pca',PCA(n_components=10)),('m',LogisticRegression())]\n",
    "model = Pipeline(steps=steps)\n",
    "\n",
    "#evaluate model\n",
    "cv = RepeatedStratifiedKFold(n_splits=10,n_repeats=3,random_state=1)\n",
    "\n",
    "n_scores = cross_val_score(model,X,y,scoring='accuracy',cv=cv,n_jobs=-1)\n",
    "print('Accuracy:%.3f(%.3f)'%(mean(n_scores),std(n_scores)))"
   ]
  },
  {
   "cell_type": "markdown",
   "id": "85a156d5",
   "metadata": {},
   "source": [
    "# Singular Value Decomposition SVD"
   ]
  },
  {
   "cell_type": "code",
   "execution_count": 16,
   "id": "e6b09496",
   "metadata": {},
   "outputs": [
    {
     "name": "stdout",
     "output_type": "stream",
     "text": [
      "Accuracy:0.824(0.034)\n"
     ]
    }
   ],
   "source": [
    "from sklearn.decomposition import TruncatedSVD\n",
    "from sklearn.pipeline import Pipeline\n",
    "\n",
    "#define pipeline\n",
    "steps = [('svd',TruncatedSVD(n_components=10)),('m',LogisticRegression())]\n",
    "model = Pipeline(steps=steps)\n",
    "\n",
    "#evaluate model\n",
    "cv = RepeatedStratifiedKFold(n_splits=10,n_repeats=3,random_state=1)\n",
    "\n",
    "n_scores = cross_val_score(model,X,y,scoring='accuracy',cv=cv,n_jobs=-1)\n",
    "print('Accuracy:%.3f(%.3f)'%(mean(n_scores),std(n_scores)))"
   ]
  },
  {
   "cell_type": "markdown",
   "id": "672e075a",
   "metadata": {},
   "source": [
    "# Linear Discriminant Analysis LDA"
   ]
  },
  {
   "cell_type": "code",
   "execution_count": 22,
   "id": "affc64f7",
   "metadata": {},
   "outputs": [
    {
     "name": "stdout",
     "output_type": "stream",
     "text": [
      "Accuracy:0.825(0.034)\n"
     ]
    }
   ],
   "source": [
    "from sklearn.discriminant_analysis import LinearDiscriminantAnalysis\n",
    "from sklearn.pipeline import Pipeline\n",
    "\n",
    "#define pipeline\n",
    "steps = [('lda',LinearDiscriminantAnalysis(n_components=1)),('m',LogisticRegression())]\n",
    "model = Pipeline(steps=steps)\n",
    "\n",
    "#evaluate model\n",
    "cv = RepeatedStratifiedKFold(n_splits=10,n_repeats=3,random_state=1)\n",
    "\n",
    "n_scores = cross_val_score(model,X,y,scoring='accuracy',cv=cv,n_jobs=-1)\n",
    "print('Accuracy:%.3f(%.3f)'%(mean(n_scores),std(n_scores)))"
   ]
  },
  {
   "cell_type": "markdown",
   "id": "36c59fe2",
   "metadata": {},
   "source": [
    "# Isomap Embedding"
   ]
  },
  {
   "cell_type": "code",
   "execution_count": 26,
   "id": "f58e3f74",
   "metadata": {},
   "outputs": [],
   "source": [
    "#trying to type code one again for practice\n",
    "\n",
    "from numpy import mean\n",
    "from numpy import std\n",
    "from sklearn.datasets import make_classification\n",
    "from sklearn.model_selection import RepeatedStratifiedKFold\n",
    "from sklearn.linear_model import LogisticRegression\n",
    "from sklearn.pipeline import Pipeline\n",
    "from sklearn.manifold import Isomap\n",
    "from sklearn.model_selection import cross_val_score"
   ]
  },
  {
   "cell_type": "code",
   "execution_count": 28,
   "id": "37217d8a",
   "metadata": {},
   "outputs": [
    {
     "name": "stdout",
     "output_type": "stream",
     "text": [
      "(1000, 20) (1000,)\n"
     ]
    }
   ],
   "source": [
    "#make binary classification\n",
    "\n",
    "X,y = make_classification(n_samples=1000,n_features=20,n_informative=10,n_redundant=10,random_state=7)\n",
    "print(X.shape,y.shape)"
   ]
  },
  {
   "cell_type": "code",
   "execution_count": 29,
   "id": "e92e7100",
   "metadata": {},
   "outputs": [],
   "source": [
    "#make pipe line\n",
    "\n",
    "steps = [('iso',Isomap(n_components=10)),('m',LogisticRegression())]\n",
    "model = Pipeline(steps=steps)"
   ]
  },
  {
   "cell_type": "code",
   "execution_count": 34,
   "id": "d2146fc6",
   "metadata": {},
   "outputs": [
    {
     "name": "stdout",
     "output_type": "stream",
     "text": [
      "AAccuracy:0.888(0.029)\n"
     ]
    }
   ],
   "source": [
    "#evaluate model\n",
    "\n",
    "cv = RepeatedStratifiedKFold(n_splits=10,n_repeats=3,random_state=1)\n",
    "\n",
    "n_scores = cross_val_score(model,X,y,scoring='accuracy',cv=cv,n_jobs=-1)\n",
    "print('Accuracy:%.3f(%.3f)'%(mean(n_scores),std(n_scores)))"
   ]
  },
  {
   "cell_type": "markdown",
   "id": "0ecc1acb",
   "metadata": {},
   "source": [
    "**Result**"
   ]
  },
  {
   "cell_type": "markdown",
   "id": "feeeede9",
   "metadata": {},
   "source": [
    "**Here we can seen difference in accuracy**"
   ]
  },
  {
   "cell_type": "markdown",
   "id": "66c1e687",
   "metadata": {},
   "source": [
    "# Locally Linear Embedding LLE"
   ]
  },
  {
   "cell_type": "code",
   "execution_count": 37,
   "id": "68d55be5",
   "metadata": {},
   "outputs": [
    {
     "name": "stdout",
     "output_type": "stream",
     "text": [
      "Accuracy:0.886(0.028)\n"
     ]
    }
   ],
   "source": [
    "from sklearn.manifold import LocallyLinearEmbedding\n",
    "from sklearn.pipeline import Pipeline\n",
    "\n",
    "#define pipeline\n",
    "steps = [('lle',LocallyLinearEmbedding(n_components=10)),('m',LogisticRegression())]\n",
    "model = Pipeline(steps=steps)\n",
    "\n",
    "#evaluate model\n",
    "cv = RepeatedStratifiedKFold(n_splits=10,n_repeats=3,random_state=1)\n",
    "\n",
    "n_scores = cross_val_score(model,X,y,scoring='accuracy',cv=cv,n_jobs=-1)\n",
    "print('Accuracy:%.3f(%.3f)'%(mean(n_scores),std(n_scores)))"
   ]
  },
  {
   "cell_type": "markdown",
   "id": "9cc36ccc",
   "metadata": {},
   "source": [
    "# modified LocallyLinearEmbedding MLLE"
   ]
  },
  {
   "cell_type": "code",
   "execution_count": 46,
   "id": "90137898",
   "metadata": {},
   "outputs": [
    {
     "name": "stdout",
     "output_type": "stream",
     "text": [
      "Accuracy:0.848(0.036)\n"
     ]
    }
   ],
   "source": [
    "from sklearn.manifold import LocallyLinearEmbedding\n",
    "from sklearn.pipeline import Pipeline\n",
    "\n",
    "#define pipeline\n",
    "steps = [('lle',LocallyLinearEmbedding(n_components=5,method='modified',n_neighbors=10)),('m',LogisticRegression())]\n",
    "model = Pipeline(steps=steps)\n",
    "\n",
    "#evaluate model\n",
    "cv = RepeatedStratifiedKFold(n_splits=10,n_repeats=3,random_state=1)\n",
    "\n",
    "n_scores = cross_val_score(model,X,y,scoring='accuracy',cv=cv,n_jobs=-1)\n",
    "print('Accuracy:%.3f(%.3f)'%(mean(n_scores),std(n_scores)))"
   ]
  },
  {
   "cell_type": "code",
   "execution_count": null,
   "id": "00762f2e",
   "metadata": {},
   "outputs": [],
   "source": []
  }
 ],
 "metadata": {
  "kernelspec": {
   "display_name": "Python 3 (ipykernel)",
   "language": "python",
   "name": "python3"
  },
  "language_info": {
   "codemirror_mode": {
    "name": "ipython",
    "version": 3
   },
   "file_extension": ".py",
   "mimetype": "text/x-python",
   "name": "python",
   "nbconvert_exporter": "python",
   "pygments_lexer": "ipython3",
   "version": "3.9.13"
  }
 },
 "nbformat": 4,
 "nbformat_minor": 5
}
